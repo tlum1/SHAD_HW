{
 "cells": [
  {
   "cell_type": "code",
   "execution_count": 7,
   "metadata": {},
   "outputs": [
    {
     "ename": "ModuleNotFoundError",
     "evalue": "No module named 'seaborn'",
     "output_type": "error",
     "traceback": [
      "\u001b[0;31m---------------------------------------------------------------------------\u001b[0m",
      "\u001b[0;31mModuleNotFoundError\u001b[0m                       Traceback (most recent call last)",
      "\u001b[1;32m/Users/sda/Desktop/Учеба/ШАД МТС/Домашки/ТВиМС/hw3.ipynb Ячейка 1\u001b[0m line \u001b[0;36m4\n\u001b[1;32m      <a href='vscode-notebook-cell:/Users/sda/Desktop/%D0%A3%D1%87%D0%B5%D0%B1%D0%B0/%D0%A8%D0%90%D0%94%20%D0%9C%D0%A2%D0%A1/%D0%94%D0%BE%D0%BC%D0%B0%D1%88%D0%BA%D0%B8/%D0%A2%D0%92%D0%B8%D0%9C%D0%A1/hw3.ipynb#W0sZmlsZQ%3D%3D?line=1'>2</a>\u001b[0m \u001b[39mimport\u001b[39;00m \u001b[39mnumpy\u001b[39;00m \u001b[39mas\u001b[39;00m \u001b[39mnp\u001b[39;00m\n\u001b[1;32m      <a href='vscode-notebook-cell:/Users/sda/Desktop/%D0%A3%D1%87%D0%B5%D0%B1%D0%B0/%D0%A8%D0%90%D0%94%20%D0%9C%D0%A2%D0%A1/%D0%94%D0%BE%D0%BC%D0%B0%D1%88%D0%BA%D0%B8/%D0%A2%D0%92%D0%B8%D0%9C%D0%A1/hw3.ipynb#W0sZmlsZQ%3D%3D?line=2'>3</a>\u001b[0m \u001b[39mimport\u001b[39;00m \u001b[39mmatplotlib\u001b[39;00m\u001b[39m.\u001b[39;00m\u001b[39mpyplot\u001b[39;00m \u001b[39mas\u001b[39;00m \u001b[39mplt\u001b[39;00m\n\u001b[0;32m----> <a href='vscode-notebook-cell:/Users/sda/Desktop/%D0%A3%D1%87%D0%B5%D0%B1%D0%B0/%D0%A8%D0%90%D0%94%20%D0%9C%D0%A2%D0%A1/%D0%94%D0%BE%D0%BC%D0%B0%D1%88%D0%BA%D0%B8/%D0%A2%D0%92%D0%B8%D0%9C%D0%A1/hw3.ipynb#W0sZmlsZQ%3D%3D?line=3'>4</a>\u001b[0m \u001b[39mimport\u001b[39;00m \u001b[39mseaborn\u001b[39;00m \u001b[39mas\u001b[39;00m \u001b[39msns\u001b[39;00m\n",
      "\u001b[0;31mModuleNotFoundError\u001b[0m: No module named 'seaborn'"
     ]
    }
   ],
   "source": [
    "import pandas as pd\n",
    "import numpy as np\n",
    "import matplotlib.pyplot as plt\n",
    "import seaborn as sns"
   ]
  },
  {
   "cell_type": "markdown",
   "metadata": {},
   "source": [
    "# Введение"
   ]
  },
  {
   "cell_type": "markdown",
   "metadata": {},
   "source": [
    "Возьмем пуассоновское распределение"
   ]
  },
  {
   "cell_type": "markdown",
   "metadata": {},
   "source": [
    "$$\n",
    "f(x) = \\frac{\\lambda^x}{x!}e^{-\\lambda}\n",
    "$$"
   ]
  },
  {
   "cell_type": "markdown",
   "metadata": {},
   "source": [
    "Пусть $\\lambda = 4$"
   ]
  },
  {
   "cell_type": "markdown",
   "metadata": {},
   "source": [
    "# Задание 1"
   ]
  },
  {
   "cell_type": "markdown",
   "metadata": {},
   "source": [
    "Напоминим, что $M_Y = \\lambda$"
   ]
  },
  {
   "cell_type": "markdown",
   "metadata": {},
   "source": [
    "Сгенирируем выборки разных объемом и проиллюстрируем сходимость выборочного среднего к мат. ожиданию"
   ]
  },
  {
   "cell_type": "code",
   "execution_count": 7,
   "metadata": {},
   "outputs": [
    {
     "ename": "AttributeError",
     "evalue": "module 'matplotlib.pyplot' has no attribute 'kdeplot'",
     "output_type": "error",
     "traceback": [
      "\u001b[0;31m---------------------------------------------------------------------------\u001b[0m",
      "\u001b[0;31mAttributeError\u001b[0m                            Traceback (most recent call last)",
      "\u001b[1;32m/Users/sda/Desktop/Учеба/ШАД МТС/Домашки/ТВиМС/hw3.ipynb Ячейка 9\u001b[0m line \u001b[0;36m1\n\u001b[0;32m----> <a href='vscode-notebook-cell:/Users/sda/Desktop/%D0%A3%D1%87%D0%B5%D0%B1%D0%B0/%D0%A8%D0%90%D0%94%20%D0%9C%D0%A2%D0%A1/%D0%94%D0%BE%D0%BC%D0%B0%D1%88%D0%BA%D0%B8/%D0%A2%D0%92%D0%B8%D0%9C%D0%A1/hw3.ipynb#W1sZmlsZQ%3D%3D?line=0'>1</a>\u001b[0m plt\u001b[39m.\u001b[39;49mkdeplot(np\u001b[39m.\u001b[39mrandom\u001b[39m.\u001b[39mpoisson(\u001b[39m4\u001b[39m, \u001b[39m1000\u001b[39m))\n",
      "\u001b[0;31mAttributeError\u001b[0m: module 'matplotlib.pyplot' has no attribute 'kdeplot'"
     ]
    }
   ],
   "source": [
    "plt.kdeplot(np.random.poisson(4, 1000))"
   ]
  },
  {
   "cell_type": "code",
   "execution_count": null,
   "metadata": {},
   "outputs": [],
   "source": []
  }
 ],
 "metadata": {
  "kernelspec": {
   "display_name": "Python 3",
   "language": "python",
   "name": "python3"
  },
  "language_info": {
   "codemirror_mode": {
    "name": "ipython",
    "version": 3
   },
   "file_extension": ".py",
   "mimetype": "text/x-python",
   "name": "python",
   "nbconvert_exporter": "python",
   "pygments_lexer": "ipython3",
   "version": "3.10.13"
  }
 },
 "nbformat": 4,
 "nbformat_minor": 2
}
